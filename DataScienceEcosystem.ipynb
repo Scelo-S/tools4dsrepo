{
 "cells": [
  {
   "cell_type": "code",
   "execution_count": 1,
   "id": "8e677a5c-98cf-4801-8030-391241b51e13",
   "metadata": {},
   "outputs": [],
   "source": [
    "# Exercise 2-Create markdown cell with title of the notebook"
   ]
  },
  {
   "cell_type": "markdown",
   "id": "1bde96c0-51dd-4005-aa6d-113787de1368",
   "metadata": {},
   "source": [
    "## Data Science Tools and Ecosystem"
   ]
  },
  {
   "cell_type": "code",
   "execution_count": 2,
   "id": "90ac763e-6e8d-441d-b235-e6d6e08ff48f",
   "metadata": {},
   "outputs": [],
   "source": [
    "# Exercise 3-Create a markdown cell for an introduction"
   ]
  },
  {
   "cell_type": "markdown",
   "id": "949609c1-14e9-4577-885f-726f94695c33",
   "metadata": {},
   "source": [
    "In this notebook, Data Science Tools and Ecosystem are summarized."
   ]
  },
  {
   "cell_type": "code",
   "execution_count": 13,
   "id": "ff254942-4b02-4e6f-91ed-cad023ddfffa",
   "metadata": {},
   "outputs": [],
   "source": [
    "# Exercise 10-Insert a markdown cell to list Objectives"
   ]
  },
  {
   "cell_type": "markdown",
   "id": "c43fe829-056f-4fc9-b722-cbe3c784f88d",
   "metadata": {},
   "source": [
    "**Objectives:**"
   ]
  },
  {
   "cell_type": "markdown",
   "id": "697500ab-45ea-42a1-b901-8f5832582298",
   "metadata": {},
   "source": [
    "+ List popular languages for Data Science\n",
    "+ List commonly used libraries for Data Science\n",
    "+ Create a table indicating three development environment open source tools"
   ]
  },
  {
   "cell_type": "code",
   "execution_count": 3,
   "id": "18f1cffa-7352-4d90-81c9-788d0049be1d",
   "metadata": {},
   "outputs": [],
   "source": [
    "# Exercise 4- Create a markdown cell to list data science languages"
   ]
  },
  {
   "cell_type": "markdown",
   "id": "e8d522e8-3c5c-450c-b840-a43c1c896bb6",
   "metadata": {},
   "source": [
    "Some of the popular languages that Data Scientists use are:"
   ]
  },
  {
   "cell_type": "markdown",
   "id": "c774d815-5fc9-4b57-b376-93765b2d1232",
   "metadata": {},
   "source": [
    "1. Python\n",
    "2. R\n",
    "3. SQL\n",
    "4. C++\n",
    "5. Java"
   ]
  },
  {
   "cell_type": "code",
   "execution_count": 4,
   "id": "bd2acbf5-7b59-4104-9c3a-353e6f5cd847",
   "metadata": {},
   "outputs": [],
   "source": [
    "# Exercise 5-Create a markdown cell to list data science libraries"
   ]
  },
  {
   "cell_type": "markdown",
   "id": "5cae8710-5ead-493b-aca7-b1d437d319e0",
   "metadata": {},
   "source": [
    "Some of the commonly used libraries used by Data Scientists include:"
   ]
  },
  {
   "cell_type": "markdown",
   "id": "48277ecf-a4cf-4657-a555-2c648b26646e",
   "metadata": {},
   "source": [
    "+ Pandas\n",
    "+ Matplotlabs\n",
    "+ ggplots\n",
    "+ Vegas\n",
    "+ Numpy"
   ]
  },
  {
   "cell_type": "code",
   "execution_count": 5,
   "id": "af04dcf1-aade-469a-8de9-8dbcd32cfa58",
   "metadata": {},
   "outputs": [],
   "source": [
    "# Exercise 6-Create a markdown cell with a table of Data Science tools"
   ]
  },
  {
   "cell_type": "markdown",
   "id": "4ad80e5e-12f6-464c-8ce0-0342f7a778c9",
   "metadata": {},
   "source": [
    "| Data Science Tools |\n",
    "|--------------------|\n",
    "| Jupyter |\n",
    "| RStudio |\n",
    "| Spyder |"
   ]
  },
  {
   "cell_type": "code",
   "execution_count": 6,
   "id": "9cf68b40-02b2-4a8a-9a08-81e3766d9f9a",
   "metadata": {},
   "outputs": [],
   "source": [
    "# Exercise 7 Create a markdown cell introducing arithmetic expression examples"
   ]
  },
  {
   "cell_type": "markdown",
   "id": "c412c07d-d7e0-4dc3-8ac3-61508a7ffef6",
   "metadata": {},
   "source": [
    "### Below are a few examples of evaluating arithmetic expressions in Python"
   ]
  },
  {
   "cell_type": "code",
   "execution_count": 7,
   "id": "58920d25-2243-4c31-a286-8e9930df8d5d",
   "metadata": {},
   "outputs": [],
   "source": [
    "# Exercise 8-Create a code cell to multiply and add numbers"
   ]
  },
  {
   "cell_type": "code",
   "execution_count": 8,
   "id": "c618eec1-f07d-45a4-b204-1181895c45d5",
   "metadata": {},
   "outputs": [],
   "source": [
    "# This a simple arithmetic expression to mutiply then add integers"
   ]
  },
  {
   "cell_type": "code",
   "execution_count": 9,
   "id": "02e57aa4-7ae7-4f98-b3a7-9bee44212d39",
   "metadata": {},
   "outputs": [
    {
     "data": {
      "text/plain": [
       "17"
      ]
     },
     "execution_count": 9,
     "metadata": {},
     "output_type": "execute_result"
    }
   ],
   "source": [
    "(3*4)+5"
   ]
  },
  {
   "cell_type": "code",
   "execution_count": 10,
   "id": "6790461c-c603-4cf8-b0a7-a934f0b0203c",
   "metadata": {},
   "outputs": [],
   "source": [
    "# Exercise 9-Create a code cell to convert minutes to hours"
   ]
  },
  {
   "cell_type": "code",
   "execution_count": 11,
   "id": "e23634c1-e63b-49d8-89c6-f8da8393dafd",
   "metadata": {},
   "outputs": [],
   "source": [
    "# This will convert 200 minutes to hours by diving by 60"
   ]
  },
  {
   "cell_type": "code",
   "execution_count": 12,
   "id": "2a375e9c-994d-4787-a737-60d99505587d",
   "metadata": {},
   "outputs": [
    {
     "data": {
      "text/plain": [
       "3.3333333333333335"
      ]
     },
     "execution_count": 12,
     "metadata": {},
     "output_type": "execute_result"
    }
   ],
   "source": [
    "200/60"
   ]
  },
  {
   "cell_type": "code",
   "execution_count": 14,
   "id": "f4bf3863-6726-4486-931e-83543001eb7d",
   "metadata": {},
   "outputs": [],
   "source": [
    "# Exercise 11-Create a markdown cell to indicate the Author's name"
   ]
  },
  {
   "cell_type": "markdown",
   "id": "8951a0fd-0810-45e2-b615-8cc1e65a8038",
   "metadata": {},
   "source": [
    "## Author"
   ]
  },
  {
   "cell_type": "markdown",
   "id": "5407e8ae-98df-4e59-8bab-97ec1d539d89",
   "metadata": {},
   "source": [
    "Sicelosethu Siro"
   ]
  }
 ],
 "metadata": {
  "kernelspec": {
   "display_name": "anaconda-panel-2023.05-py310",
   "language": "python",
   "name": "conda-env-anaconda-panel-2023.05-py310-py"
  },
  "language_info": {
   "codemirror_mode": {
    "name": "ipython",
    "version": 3
   },
   "file_extension": ".py",
   "mimetype": "text/x-python",
   "name": "python",
   "nbconvert_exporter": "python",
   "pygments_lexer": "ipython3",
   "version": "3.11.4"
  }
 },
 "nbformat": 4,
 "nbformat_minor": 5
}
